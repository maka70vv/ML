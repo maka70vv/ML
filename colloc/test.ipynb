{
 "cells": [
  {
   "cell_type": "markdown",
   "metadata": {
    "id": "vX-0UezwUhaX"
   },
   "source": [
    "В *scikit-learn* имеется встроенные наборы данных, которые не требуют загрузки файлов с какого-либо внешнего сайта. Их можно загрузить с помощью следующих функций:\n",
    "\n",
    "- load_iris() #  наборы данных по ирисам\n",
    "\n",
    "- load_breast_cancer() # наборы данных о раке молочной железы\n",
    "\n",
    "**1. Вывести первые 10 записей из набора данных Iris**"
   ]
  },
  {
   "cell_type": "markdown",
   "metadata": {
    "id": "wRxGBVrUUhaU"
   },
   "source": [
    "##  Machine Learning\n",
    "\n",
    "##  \n",
    "\n",
    "### Общая информация\n",
    "\n",
    "Общее время на выполнение:  15 мин\n",
    "\n",
    "Сдавать задание по истечении 15 минут нельзя.\n",
    "\n",
    "Задание выполняется самостоятельно.\n",
    "\n",
    "### Формат сдачи\n",
    " Результаты выполненных заданий отправьте используя **[ОНЛАЙН-ФОРМУ](https://docs.google.com/forms/d/e/1FAIpQLSc3rVNabWKG1cVDlAId2PnvlznZ0iM5yYaFybTIddmDgVeu7Q/viewform?usp=preview).**\n",
    "\n",
    "\n"
   ]
  },
  {
   "cell_type": "code",
   "metadata": {
    "id": "u3X7xLOyUhaX",
    "ExecuteTime": {
     "end_time": "2025-03-20T07:36:02.495965Z",
     "start_time": "2025-03-20T07:36:02.488119Z"
    }
   },
   "source": [
    "import pandas as pd\n",
    "from sklearn.datasets import load_iris\n",
    "iris = load_iris()\n",
    "df = pd.DataFrame(data=iris.data, columns=iris.feature_names)\n",
    "df['species'] = iris.target_names[iris.target]\n",
    "print(df.head(10))"
   ],
   "outputs": [
    {
     "name": "stdout",
     "output_type": "stream",
     "text": [
      "   sepal length (cm)  sepal width (cm)  petal length (cm)  petal width (cm)  \\\n",
      "0                5.1               3.5                1.4               0.2   \n",
      "1                4.9               3.0                1.4               0.2   \n",
      "2                4.7               3.2                1.3               0.2   \n",
      "3                4.6               3.1                1.5               0.2   \n",
      "4                5.0               3.6                1.4               0.2   \n",
      "5                5.4               3.9                1.7               0.4   \n",
      "6                4.6               3.4                1.4               0.3   \n",
      "7                5.0               3.4                1.5               0.2   \n",
      "8                4.4               2.9                1.4               0.2   \n",
      "9                4.9               3.1                1.5               0.1   \n",
      "\n",
      "  species  \n",
      "0  setosa  \n",
      "1  setosa  \n",
      "2  setosa  \n",
      "3  setosa  \n",
      "4  setosa  \n",
      "5  setosa  \n",
      "6  setosa  \n",
      "7  setosa  \n",
      "8  setosa  \n",
      "9  setosa  \n"
     ]
    }
   ],
   "execution_count": 11
  },
  {
   "cell_type": "markdown",
   "metadata": {
    "id": "9K2xWd3EUhaY"
   },
   "source": [
    "## **2. В наборе данных Iris сколько различных сортов ириса, и всего сколько цветов?**:"
   ]
  },
  {
   "cell_type": "code",
   "metadata": {
    "id": "hWgK8KX-UhaY",
    "ExecuteTime": {
     "end_time": "2025-03-20T07:36:02.506060Z",
     "start_time": "2025-03-20T07:36:02.502939Z"
    }
   },
   "source": [
    "import pandas as pd\n",
    "from sklearn.datasets import load_iris\n",
    "unique_species = df['species'].nunique()\n",
    "total_flowers = len(df)\n",
    "print(f\"Количество различных сортов ириса: {unique_species}\")\n",
    "print(f\"Общее количество цветов: {total_flowers}\")"
   ],
   "outputs": [
    {
     "name": "stdout",
     "output_type": "stream",
     "text": [
      "Количество различных сортов ириса: 3\n",
      "Общее количество цветов: 150\n"
     ]
    }
   ],
   "execution_count": 12
  },
  {
   "cell_type": "markdown",
   "metadata": {
    "id": "0S_BOt1XUhaZ"
   },
   "source": [
    "**3. Классом KNeighborsClassifier обучите модель для классификации цветов на основе набора данных Iris, позволяющей различать виды ирисов по размерам чашелистиков и лепестков. Узнайте точность обученной модели**"
   ]
  },
  {
   "cell_type": "code",
   "metadata": {
    "id": "ymhTBZOoUhaZ",
    "ExecuteTime": {
     "end_time": "2025-03-20T07:36:02.562583Z",
     "start_time": "2025-03-20T07:36:02.551550Z"
    }
   },
   "source": [
    "import pandas as pd\n",
    "from sklearn.datasets import load_iris\n",
    "from sklearn.model_selection import train_test_split\n",
    "from sklearn.neighbors import KNeighborsClassifier\n",
    "from sklearn.metrics import accuracy_score\n",
    "X = df[iris.feature_names]\n",
    "y = df['species']\n",
    "X_train, X_test, y_train, y_test = train_test_split(X, y, test_size=0.3, random_state=42)\n",
    "knn = KNeighborsClassifier(n_neighbors=3)\n",
    "knn.fit(X_train, y_train)\n",
    "y_pred = knn.predict(X_test)\n",
    "accuracy = accuracy_score(y_test, y_pred)\n",
    "print(f\"Точность модели: {accuracy:.2f}\")"
   ],
   "outputs": [
    {
     "name": "stdout",
     "output_type": "stream",
     "text": [
      "Точность модели: 1.00\n"
     ]
    }
   ],
   "execution_count": 13
  },
  {
   "cell_type": "markdown",
   "metadata": {
    "id": "NGj-nJRpUhaZ"
   },
   "source": [
    "**4. Необходимо определить вид ириса A)  длина чашелистика которого составляет 4.7 см, ширина чашелистика - 3.2 см, длина лепестка - 1.6 см, а ширина лепестка - 0.2 см  B) длина чашелистика которого составляет 7.9 см, ширина чашелистика - 3.8 см, длина лепестка - 6.4 см, а ширина лепестка - 2.0 см. Вывести класс и название сорта ириса**"
   ]
  },
  {
   "cell_type": "code",
   "metadata": {
    "id": "5ATN8pm3Uhaa",
    "ExecuteTime": {
     "end_time": "2025-03-20T07:36:02.615148Z",
     "start_time": "2025-03-20T07:36:02.607919Z"
    }
   },
   "source": [
    "from sklearn.datasets import load_iris\n",
    "from sklearn.model_selection import train_test_split\n",
    "from sklearn.neighbors import KNeighborsClassifier\n",
    "iris = load_iris()\n",
    "X = iris.data\n",
    "y = iris.target\n",
    "X_train, X_test, y_train, y_test = train_test_split(X, y, test_size=0.3, random_state=42)\n",
    "knn = KNeighborsClassifier(n_neighbors=3)\n",
    "knn.fit(X_train, y_train)\n",
    "\n",
    "samples = [\n",
    "    [4.7, 3.2, 1.6, 0.2],\n",
    "    [7.9, 3.8, 6.4, 2.0]\n",
    "]\n",
    "\n",
    "predicted = knn.predict(samples)\n",
    "for i, sample in enumerate(samples):\n",
    "    print(f\"Ирис {chr(65+i)} (чашелистик {sample[:2]}, лепесток {sample[2:]}):\")\n",
    "    print(f\"Класс: {predicted[i]}\")\n",
    "    print(f\"Название сорта: {iris.target_names[predicted[i]]}\\n\")"
   ],
   "outputs": [
    {
     "name": "stdout",
     "output_type": "stream",
     "text": [
      "Ирис A (чашелистик [4.7, 3.2], лепесток [1.6, 0.2]):\n",
      "Класс: 0\n",
      "Название сорта: setosa\n",
      "\n",
      "Ирис B (чашелистик [7.9, 3.8], лепесток [6.4, 2.0]):\n",
      "Класс: 2\n",
      "Название сорта: virginica\n",
      "\n"
     ]
    }
   ],
   "execution_count": 14
  },
  {
   "cell_type": "markdown",
   "metadata": {
    "id": "O8RHw1E0Uhaa"
   },
   "source": [
    "**5. Вывести последние 10 записей из набора данных о раке молочной железы. Узнайте,сколько точек данных помечены как злокачественные и доброкачественные?**"
   ]
  },
  {
   "cell_type": "code",
   "metadata": {
    "id": "PD-kf_y3Uhaa",
    "ExecuteTime": {
     "end_time": "2025-03-20T07:36:02.678806Z",
     "start_time": "2025-03-20T07:36:02.657686Z"
    }
   },
   "source": [
    "import pandas as pd\n",
    "from sklearn.datasets import load_breast_cancer\n",
    "cancer_data = load_breast_cancer()\n",
    "df = pd.DataFrame(data=cancer_data.data, columns=cancer_data.feature_names)\n",
    "df['diagnosis'] = cancer_data.target\n",
    "df['diagnosis'] = df['diagnosis'].map({0: 'B', 1: 'M'})\n",
    "print(\"Последние 10 записей:\")\n",
    "print(df.tail(10))\n",
    "count_benign = df[df['diagnosis'] == 'B'].shape[0]\n",
    "count_malignant = df[df['diagnosis'] == 'M'].shape[0]\n",
    "\n",
    "print(f\"Количество доброкачественных случаев (B): {count_benign}\")\n",
    "print(f\"Количество злокачественных случаев (M): {count_malignant}\")"
   ],
   "outputs": [
    {
     "name": "stdout",
     "output_type": "stream",
     "text": [
      "Последние 10 записей:\n",
      "     mean radius  mean texture  mean perimeter  mean area  mean smoothness  \\\n",
      "559        11.51         23.93           74.52      403.5          0.09261   \n",
      "560        14.05         27.15           91.38      600.4          0.09929   \n",
      "561        11.20         29.37           70.67      386.0          0.07449   \n",
      "562        15.22         30.62          103.40      716.9          0.10480   \n",
      "563        20.92         25.09          143.00     1347.0          0.10990   \n",
      "564        21.56         22.39          142.00     1479.0          0.11100   \n",
      "565        20.13         28.25          131.20     1261.0          0.09780   \n",
      "566        16.60         28.08          108.30      858.1          0.08455   \n",
      "567        20.60         29.33          140.10     1265.0          0.11780   \n",
      "568         7.76         24.54           47.92      181.0          0.05263   \n",
      "\n",
      "     mean compactness  mean concavity  mean concave points  mean symmetry  \\\n",
      "559           0.10210         0.11120              0.04105         0.1388   \n",
      "560           0.11260         0.04462              0.04304         0.1537   \n",
      "561           0.03558         0.00000              0.00000         0.1060   \n",
      "562           0.20870         0.25500              0.09429         0.2128   \n",
      "563           0.22360         0.31740              0.14740         0.2149   \n",
      "564           0.11590         0.24390              0.13890         0.1726   \n",
      "565           0.10340         0.14400              0.09791         0.1752   \n",
      "566           0.10230         0.09251              0.05302         0.1590   \n",
      "567           0.27700         0.35140              0.15200         0.2397   \n",
      "568           0.04362         0.00000              0.00000         0.1587   \n",
      "\n",
      "     mean fractal dimension  ...  worst texture  worst perimeter  worst area  \\\n",
      "559                 0.06570  ...          37.16            82.28       474.2   \n",
      "560                 0.06171  ...          33.17           100.20       706.7   \n",
      "561                 0.05502  ...          38.30            75.19       439.6   \n",
      "562                 0.07152  ...          42.79           128.70       915.0   \n",
      "563                 0.06879  ...          29.41           179.10      1819.0   \n",
      "564                 0.05623  ...          26.40           166.10      2027.0   \n",
      "565                 0.05533  ...          38.25           155.00      1731.0   \n",
      "566                 0.05648  ...          34.12           126.70      1124.0   \n",
      "567                 0.07016  ...          39.42           184.60      1821.0   \n",
      "568                 0.05884  ...          30.37            59.16       268.6   \n",
      "\n",
      "     worst smoothness  worst compactness  worst concavity  \\\n",
      "559           0.12980            0.25170           0.3630   \n",
      "560           0.12410            0.22640           0.1326   \n",
      "561           0.09267            0.05494           0.0000   \n",
      "562           0.14170            0.79170           1.1700   \n",
      "563           0.14070            0.41860           0.6599   \n",
      "564           0.14100            0.21130           0.4107   \n",
      "565           0.11660            0.19220           0.3215   \n",
      "566           0.11390            0.30940           0.3403   \n",
      "567           0.16500            0.86810           0.9387   \n",
      "568           0.08996            0.06444           0.0000   \n",
      "\n",
      "     worst concave points  worst symmetry  worst fractal dimension  diagnosis  \n",
      "559               0.09653          0.2112                  0.08732          M  \n",
      "560               0.10480          0.2250                  0.08321          M  \n",
      "561               0.00000          0.1566                  0.05905          M  \n",
      "562               0.23560          0.4089                  0.14090          B  \n",
      "563               0.25420          0.2929                  0.09873          B  \n",
      "564               0.22160          0.2060                  0.07115          B  \n",
      "565               0.16280          0.2572                  0.06637          B  \n",
      "566               0.14180          0.2218                  0.07820          B  \n",
      "567               0.26500          0.4087                  0.12400          B  \n",
      "568               0.00000          0.2871                  0.07039          M  \n",
      "\n",
      "[10 rows x 31 columns]\n",
      "Количество доброкачественных случаев (B): 212\n",
      "Количество злокачественных случаев (M): 357\n"
     ]
    }
   ],
   "execution_count": 15
  },
  {
   "cell_type": "markdown",
   "metadata": {
    "id": "gGz6KJUNUhaa"
   },
   "source": [
    "**6. Вывести содержательное описание каждого признака**"
   ]
  },
  {
   "cell_type": "code",
   "metadata": {
    "id": "0ZmCj_V_Uhaa",
    "ExecuteTime": {
     "end_time": "2025-03-20T07:36:02.734851Z",
     "start_time": "2025-03-20T07:36:02.726329Z"
    }
   },
   "source": [
    "from sklearn.datasets import load_breast_cancer\n",
    "cancer_data = load_breast_cancer()\n",
    "feature_descriptions = {\n",
    "    \"mean radius\": \"Средний радиус клеток опухоли.\",\n",
    "    \"mean texture\": \"Средняя текстура клеток опухоли (вариативность интенсивности пикселей).\",\n",
    "    \"mean perimeter\": \"Средний периметр клеток опухоли.\",\n",
    "    \"mean area\": \"Средняя площадь клеток опухоли.\",\n",
    "    \"mean smoothness\": \"Средняя гладкость клеток опухоли (измерение локальной неравномерности поверхности).\",\n",
    "    \"mean compactness\": \"Средняя компактность клеток опухоли (измерение формы клетки).\",\n",
    "    \"mean concavity\": \"Средняя вогнутость клеток опухоли (склонность клеток к образованию вогнутостей).\",\n",
    "    \"mean concave points\": \"Среднее количество вогнутых точек на контуре клеток опухоли.\",\n",
    "    \"mean symmetry\": \"Средняя симметричность клеток опухоли (степень симметрии клеток).\",\n",
    "    \"mean fractal dimension\": \"Среднее фрактальное измерение клеток опухоли (характеристика формы клетки).\",\n",
    "    \"radius error\": \"Ошибка в измерении радиуса клеток опухоли.\",\n",
    "    \"texture error\": \"Ошибка в измерении текстуры клеток опухоли.\",\n",
    "    \"perimeter error\": \"Ошибка в измерении периметра клеток опухоли.\",\n",
    "    \"area error\": \"Ошибка в измерении площади клеток опухоли.\",\n",
    "    \"smoothness error\": \"Ошибка в измерении гладкости клеток опухоли.\",\n",
    "    \"compactness error\": \"Ошибка в измерении компактности клеток опухоли.\",\n",
    "    \"concavity error\": \"Ошибка в измерении вогнутости клеток опухоли.\",\n",
    "    \"concave points error\": \"Ошибка в измерении вогнутых точек на контуре клеток опухоли.\",\n",
    "    \"symmetry error\": \"Ошибка в измерении симметрии клеток опухоли.\",\n",
    "    \"fractal dimension error\": \"Ошибка в измерении фрактального измерения клеток опухоли.\",\n",
    "    \"worst radius\": \"Наихудший радиус клеток опухоли (самый большой радиус).\",\n",
    "    \"worst texture\": \"Наихудшая текстура клеток опухоли.\",\n",
    "    \"worst perimeter\": \"Наихудший периметр клеток опухоли.\",\n",
    "    \"worst area\": \"Наихудшая площадь клеток опухоли.\",\n",
    "    \"worst smoothness\": \"Наихудшая гладкость клеток опухоли.\",\n",
    "    \"worst compactness\": \"Наихудшая компактность клеток опухоли.\",\n",
    "    \"worst concavity\": \"Наихудшая вогнутость клеток опухоли.\",\n",
    "    \"worst concave points\": \"Наихудшее количество вогнутых точек на контуре клеток опухоли.\",\n",
    "    \"worst symmetry\": \"Наихудшая симметричность клеток опухоли.\",\n",
    "    \"worst fractal dimension\": \"Наихудшее фрактальное измерение клеток опухоли.\"\n",
    "}\n",
    "\n",
    "print(\"Описание признаков набора данных о раке молочной железы:\")\n",
    "for feature in cancer_data.feature_names:\n",
    "    print(f\"{feature}: {feature_descriptions.get(feature, 'Описание отсутствует')}\")"
   ],
   "outputs": [
    {
     "name": "stdout",
     "output_type": "stream",
     "text": [
      "Описание признаков набора данных о раке молочной железы:\n",
      "mean radius: Средний радиус клеток опухоли.\n",
      "mean texture: Средняя текстура клеток опухоли (вариативность интенсивности пикселей).\n",
      "mean perimeter: Средний периметр клеток опухоли.\n",
      "mean area: Средняя площадь клеток опухоли.\n",
      "mean smoothness: Средняя гладкость клеток опухоли (измерение локальной неравномерности поверхности).\n",
      "mean compactness: Средняя компактность клеток опухоли (измерение формы клетки).\n",
      "mean concavity: Средняя вогнутость клеток опухоли (склонность клеток к образованию вогнутостей).\n",
      "mean concave points: Среднее количество вогнутых точек на контуре клеток опухоли.\n",
      "mean symmetry: Средняя симметричность клеток опухоли (степень симметрии клеток).\n",
      "mean fractal dimension: Среднее фрактальное измерение клеток опухоли (характеристика формы клетки).\n",
      "radius error: Ошибка в измерении радиуса клеток опухоли.\n",
      "texture error: Ошибка в измерении текстуры клеток опухоли.\n",
      "perimeter error: Ошибка в измерении периметра клеток опухоли.\n",
      "area error: Ошибка в измерении площади клеток опухоли.\n",
      "smoothness error: Ошибка в измерении гладкости клеток опухоли.\n",
      "compactness error: Ошибка в измерении компактности клеток опухоли.\n",
      "concavity error: Ошибка в измерении вогнутости клеток опухоли.\n",
      "concave points error: Ошибка в измерении вогнутых точек на контуре клеток опухоли.\n",
      "symmetry error: Ошибка в измерении симметрии клеток опухоли.\n",
      "fractal dimension error: Ошибка в измерении фрактального измерения клеток опухоли.\n",
      "worst radius: Наихудший радиус клеток опухоли (самый большой радиус).\n",
      "worst texture: Наихудшая текстура клеток опухоли.\n",
      "worst perimeter: Наихудший периметр клеток опухоли.\n",
      "worst area: Наихудшая площадь клеток опухоли.\n",
      "worst smoothness: Наихудшая гладкость клеток опухоли.\n",
      "worst compactness: Наихудшая компактность клеток опухоли.\n",
      "worst concavity: Наихудшая вогнутость клеток опухоли.\n",
      "worst concave points: Наихудшее количество вогнутых точек на контуре клеток опухоли.\n",
      "worst symmetry: Наихудшая симметричность клеток опухоли.\n",
      "worst fractal dimension: Наихудшее фрактальное измерение клеток опухоли.\n"
     ]
    }
   ],
   "execution_count": 16
  },
  {
   "cell_type": "markdown",
   "metadata": {
    "id": "lStR5BvwUhac"
   },
   "source": [
    "**7. В объект lines напишите информацию о Вашей группе: сколько студентов, когда вы поступили в КГТУ.  Классом CountVectoгizer разбейте строки на слова, удалите стоп-слова, цифры и символы, а все оставшиеся слова переведите в нижний регистр.**"
   ]
  },
  {
   "cell_type": "code",
   "metadata": {
    "id": "39TGcSuJUhac",
    "ExecuteTime": {
     "end_time": "2025-03-20T07:36:02.776112Z",
     "start_time": "2025-03-20T07:36:02.772030Z"
    }
   },
   "source": [
    "from sklearn.feature_extraction.text import CountVectorizer\n",
    "from nltk.corpus import stopwords\n",
    "import re\n",
    "def preprocess_text(text):\n",
    "    return re.sub(r'\\d+', '', text).lower()\n",
    "# Ваш код здесь\n",
    "lines = ['В группе ИмяГруппы КоличествоСтудентов студентов.',\n",
    "         'В INAI мы поступили 2023 году']\n",
    "# Осуществляем векторизацию\n",
    "\n",
    "# Показываем результаты\n",
    "\n",
    "cleaned_lines = [preprocess_text(line) for line in lines]\n",
    "\n",
    "vectorizer = CountVectorizer()\n",
    "X = vectorizer.fit_transform(cleaned_lines)\n",
    "print(\"Слова после обработки:\", vectorizer.get_feature_names_out())\n",
    "print(\"Матрица признаков:\\n\", X.toarray())\n"
   ],
   "outputs": [
    {
     "name": "stdout",
     "output_type": "stream",
     "text": [
      "Слова после обработки: ['inai' 'году' 'группе' 'имягруппы' 'количествостудентов' 'мы' 'поступили'\n",
      " 'студентов']\n",
      "Матрица признаков:\n",
      " [[0 0 1 1 1 0 0 1]\n",
      " [1 1 0 0 0 1 1 0]]\n"
     ]
    }
   ],
   "execution_count": 17
  },
  {
   "cell_type": "code",
   "metadata": {
    "scrolled": true,
    "id": "FazL9UnSUhad",
    "ExecuteTime": {
     "end_time": "2025-03-20T07:36:02.823002Z",
     "start_time": "2025-03-20T07:36:02.821104Z"
    }
   },
   "source": [
    "# Ваш код здесь"
   ],
   "outputs": [],
   "execution_count": 18
  },
  {
   "cell_type": "code",
   "metadata": {
    "id": "pl107nM9Uhad",
    "ExecuteTime": {
     "end_time": "2025-03-20T07:36:02.868215Z",
     "start_time": "2025-03-20T07:36:02.866278Z"
    }
   },
   "source": "# Ваш код здесь",
   "outputs": [],
   "execution_count": 19
  },
  {
   "cell_type": "markdown",
   "metadata": {
    "id": "SL2rhbFGUhad"
   },
   "source": [
    "**8. Создайте слой Embedding со словарем в 200 слов, векторное пространство из 32 измерений,  в которое будут векторизованы слова, каждая из которых содержит 50 слов**"
   ]
  },
  {
   "cell_type": "code",
   "metadata": {
    "id": "J1yfhJj4Uhad",
    "ExecuteTime": {
     "end_time": "2025-03-20T07:39:29.641965Z",
     "start_time": "2025-03-20T07:39:29.625322Z"
    }
   },
   "source": [
    "from tensorflow.keras.models import Sequential\n",
    "from tensorflow.keras.layers import Embedding\n",
    "import numpy as np\n",
    "\n",
    "vocab_size = 200\n",
    "embedding_dim = 32\n",
    "sequence_length = 50\n",
    "\n",
    "model = Sequential()\n",
    "model.add(Embedding(input_dim=vocab_size, output_dim=embedding_dim, input_length=sequence_length))\n",
    "\n",
    "model.compile(optimizer='adam', loss='mse')\n",
    "\n",
    "input_data = np.random.randint(0, vocab_size, size=(2, sequence_length))\n",
    "\n",
    "output = model.predict(input_data)\n",
    "\n",
    "print(\"Входные данные:\")\n",
    "print(input_data)\n",
    "print(\"\\nВыходные данные:\")\n",
    "print(output)"
   ],
   "outputs": [
    {
     "ename": "ModuleNotFoundError",
     "evalue": "No module named 'tensorflow.keras'",
     "output_type": "error",
     "traceback": [
      "\u001B[0;31m---------------------------------------------------------------------------\u001B[0m",
      "\u001B[0;31mModuleNotFoundError\u001B[0m                       Traceback (most recent call last)",
      "Cell \u001B[0;32mIn[25], line 1\u001B[0m\n\u001B[0;32m----> 1\u001B[0m \u001B[38;5;28;01mfrom\u001B[39;00m \u001B[38;5;21;01mtensorflow\u001B[39;00m\u001B[38;5;21;01m.\u001B[39;00m\u001B[38;5;21;01mkeras\u001B[39;00m\u001B[38;5;21;01m.\u001B[39;00m\u001B[38;5;21;01mmodels\u001B[39;00m \u001B[38;5;28;01mimport\u001B[39;00m Sequential\n\u001B[1;32m      2\u001B[0m \u001B[38;5;28;01mfrom\u001B[39;00m \u001B[38;5;21;01mtensorflow\u001B[39;00m\u001B[38;5;21;01m.\u001B[39;00m\u001B[38;5;21;01mkeras\u001B[39;00m\u001B[38;5;21;01m.\u001B[39;00m\u001B[38;5;21;01mlayers\u001B[39;00m \u001B[38;5;28;01mimport\u001B[39;00m Embedding\n\u001B[1;32m      3\u001B[0m \u001B[38;5;28;01mimport\u001B[39;00m \u001B[38;5;21;01mnumpy\u001B[39;00m \u001B[38;5;28;01mas\u001B[39;00m \u001B[38;5;21;01mnp\u001B[39;00m\n",
      "\u001B[0;31mModuleNotFoundError\u001B[0m: No module named 'tensorflow.keras'"
     ]
    }
   ],
   "execution_count": 25
  },
  {
   "cell_type": "markdown",
   "metadata": {
    "id": "hi2vF71iUhai"
   },
   "source": [
    "**9. Определите спам с любыми текстовыми сообщениями**"
   ]
  },
  {
   "cell_type": "code",
   "metadata": {
    "id": "_5_LOtXsUhai",
    "ExecuteTime": {
     "end_time": "2025-03-20T07:37:16.274210Z",
     "start_time": "2025-03-20T07:37:16.249649Z"
    }
   },
   "source": [
    "from sklearn.feature_extraction.text import CountVectorizer\n",
    "from sklearn.naive_bayes import MultinomialNB\n",
    "from sklearn.pipeline import make_pipeline\n",
    "from sklearn.model_selection import train_test_split\n",
    "from sklearn.metrics import classification_report\n",
    "\n",
    "data = [\n",
    "    (\"Buy cheap viagra now\", \"spam\"),\n",
    "    (\"Meeting at 5pm\", \"ham\"),\n",
    "    (\"Congratulations, you have won a lottery\", \"spam\"),\n",
    "    (\"Let's go for a coffee\", \"ham\"),\n",
    "    (\"Special offer on mobile phones\", \"spam\"),\n",
    "    (\"Hello, how are you?\", \"ham\")\n",
    "]\n",
    "\n",
    "texts, labels = zip(*data)\n",
    "X_train, X_test, y_train, y_test = train_test_split(texts, labels, test_size=0.2, random_state=42)\n",
    "model = make_pipeline(CountVectorizer(), MultinomialNB())\n",
    "\n",
    "model.fit(X_train, y_train)\n",
    "\n",
    "y_pred = model.predict(X_test)\n",
    "\n",
    "print(classification_report(y_test, y_pred))"
   ],
   "outputs": [
    {
     "name": "stdout",
     "output_type": "stream",
     "text": [
      "              precision    recall  f1-score   support\n",
      "\n",
      "         ham       0.50      1.00      0.67         1\n",
      "        spam       0.00      0.00      0.00         1\n",
      "\n",
      "    accuracy                           0.50         2\n",
      "   macro avg       0.25      0.50      0.33         2\n",
      "weighted avg       0.25      0.50      0.33         2\n",
      "\n"
     ]
    },
    {
     "name": "stderr",
     "output_type": "stream",
     "text": [
      "/home/makarov/miniconda3/lib/python3.12/site-packages/sklearn/metrics/_classification.py:1531: UndefinedMetricWarning: Precision is ill-defined and being set to 0.0 in labels with no predicted samples. Use `zero_division` parameter to control this behavior.\n",
      "  _warn_prf(average, modifier, f\"{metric.capitalize()} is\", len(result))\n",
      "/home/makarov/miniconda3/lib/python3.12/site-packages/sklearn/metrics/_classification.py:1531: UndefinedMetricWarning: Precision is ill-defined and being set to 0.0 in labels with no predicted samples. Use `zero_division` parameter to control this behavior.\n",
      "  _warn_prf(average, modifier, f\"{metric.capitalize()} is\", len(result))\n",
      "/home/makarov/miniconda3/lib/python3.12/site-packages/sklearn/metrics/_classification.py:1531: UndefinedMetricWarning: Precision is ill-defined and being set to 0.0 in labels with no predicted samples. Use `zero_division` parameter to control this behavior.\n",
      "  _warn_prf(average, modifier, f\"{metric.capitalize()} is\", len(result))\n"
     ]
    }
   ],
   "execution_count": 23
  },
  {
   "cell_type": "markdown",
   "source": [],
   "metadata": {
    "id": "vW3q8fR5ZfUj"
   }
  }
 ],
 "metadata": {
  "anaconda-cloud": {},
  "kernelspec": {
   "display_name": "Python 3 (ipykernel)",
   "language": "python",
   "name": "python3"
  },
  "language_info": {
   "codemirror_mode": {
    "name": "ipython",
    "version": 3
   },
   "file_extension": ".py",
   "mimetype": "text/x-python",
   "name": "python",
   "nbconvert_exporter": "python",
   "pygments_lexer": "ipython3",
   "version": "3.9.12"
  },
  "colab": {
   "provenance": [
    {
     "file_id": "1iubuG9UnEsAtUHFVu_nNMuXjGykLimxE",
     "timestamp": 1742453545561
    }
   ]
  }
 },
 "nbformat": 4,
 "nbformat_minor": 0
}
