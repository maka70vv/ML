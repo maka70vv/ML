{
 "cells": [
  {
   "cell_type": "code",
   "execution_count": null,
   "id": "initial_id",
   "metadata": {
    "collapsed": true
   },
   "outputs": [],
   "source": [
    "from PyPDF2 import PdfReader\n",
    "from pytesseract import image_to_string\n",
    "\n",
    "with open(\"file.pdf\", \"rb\") as pdf_file:\n",
    "    pdf_reader = PdfReader(pdf_file)\n",
    "\n",
    "    num_pages = len(pdf_reader.pages)\n",
    "    print(\"Total number of pages: {}\".format(num_pages))\n",
    "\n",
    "    if num_pages > 0:\n",
    "        page = pdf_reader.pages[0]\n",
    "        text_page = page.extractText()\n",
    "        print(\"Text extracted: {}\".format(text_page))\n",
    "        print(text_page)"
   ]
  },
  {
   "metadata": {},
   "cell_type": "code",
   "outputs": [],
   "execution_count": null,
   "source": [
    "import cv2\n",
    "import pytesseract\n",
    "\n",
    "img = cv2.imread(\"file.pdf\")\n",
    "text = pytesseract.image_to_string(img)\n",
    "print(text)"
   ],
   "id": "120a0544f04e008d"
  }
 ],
 "metadata": {
  "kernelspec": {
   "display_name": "Python 3",
   "language": "python",
   "name": "python3"
  },
  "language_info": {
   "codemirror_mode": {
    "name": "ipython",
    "version": 2
   },
   "file_extension": ".py",
   "mimetype": "text/x-python",
   "name": "python",
   "nbconvert_exporter": "python",
   "pygments_lexer": "ipython2",
   "version": "2.7.6"
  }
 },
 "nbformat": 4,
 "nbformat_minor": 5
}
