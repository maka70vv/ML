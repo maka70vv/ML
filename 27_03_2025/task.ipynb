{
 "cells": [
  {
   "cell_type": "code",
   "id": "initial_id",
   "metadata": {
    "collapsed": true,
    "ExecuteTime": {
     "end_time": "2025-03-27T07:23:32.430751Z",
     "start_time": "2025-03-27T07:23:32.422802Z"
    }
   },
   "source": [
    "import nltk\n",
    "import spacy\n",
    "from natasha import (\n",
    "    Segmenter, NewsEmbedding, NewsNERTagger, Doc\n",
    ")\n",
    "from nltk.tokenize import word_tokenize\n",
    "from nltk.tag import pos_tag\n",
    "from nltk.chunk import ne_chunk\n",
    "from transformers import pipeline\n"
   ],
   "outputs": [],
   "execution_count": 79
  },
  {
   "metadata": {
    "ExecuteTime": {
     "end_time": "2025-03-27T07:23:32.440952Z",
     "start_time": "2025-03-27T07:23:32.438184Z"
    }
   },
   "cell_type": "code",
   "source": [
    "text_ru = \"\"\"\n",
    "Искусственный интеллект (ИИ) — это область компьютерных наук, занимающаяся созданием программ и систем, способных выполнять задачи, требующие интеллектуальных усилий, аналогичных человеческим. История ИИ уходит корнями в середину XX века, когда ученые начали разрабатывать первые алгоритмы для имитации человеческого мышления.\n",
    "\n",
    "В 1950 году британский математик Алан Тьюринг предложил тест Тьюринга, который стал важным критерием оценки разумности машин. В 1956 году состоялась конференция в Дартмуте, на которой был впервые введен термин \"искусственный интеллект\". В последующие десятилетия исследователи разрабатывали экспертные системы, алгоритмы машинного обучения и нейронные сети.\n",
    "\n",
    "В 1997 году программа IBM Deep Blue обыграла чемпиона мира по шахматам Гарри Каспарова, что стало знаковым событием в развитии ИИ. В 2011 году система IBM Watson победила людей в телевизионной игре Jeopardy!, а в 2016 году AlphaGo от Google DeepMind одолела лучшего игрока в го.\n",
    "\n",
    "Сегодня ИИ используется в медицине, финансах, автомобильной промышленности и других областях. Глубокое обучение и нейросетевые технологии позволили добиться значительных успехов в обработке естественного языка, компьютерном зрении и автономных системах. Однако вместе с достижениями ИИ вызывает этические и социальные вопросы, связанные с приватностью, автоматизацией рабочих мест и ответственностью за решения, принимаемые машинами.\n",
    "\n",
    "Будущее ИИ обещает еще более глубокую интеграцию в повседневную жизнь, развитие генеративных моделей, усовершенствование автономных систем и повышение точности медицинской диагностики. Тем не менее, важно сохранять баланс между технологическим прогрессом и безопасностью общества.\n",
    "\"\"\""
   ],
   "id": "81e13da25125be8c",
   "outputs": [],
   "execution_count": 80
  },
  {
   "metadata": {
    "ExecuteTime": {
     "end_time": "2025-03-27T07:23:32.486917Z",
     "start_time": "2025-03-27T07:23:32.484486Z"
    }
   },
   "cell_type": "code",
   "source": [
    "text_en = \"\"\"\n",
    "Artificial intelligence (AI) is a field of computer science dedicated to creating software and systems capable of performing tasks that require intellectual effort similar to that of humans. The history of AI dates back to the mid-20th century when scientists began developing the first algorithms to simulate human thought.\n",
    "\n",
    "In 1950, British mathematician Alan Turing proposed the Turing Test, which became a crucial criterion for assessing machine intelligence. In 1956, the Dartmouth Conference introduced the term \"artificial intelligence\" for the first time. In the following decades, researchers developed expert systems, machine learning algorithms, and neural networks.\n",
    "\n",
    "In 1997, IBM's Deep Blue defeated world chess champion Garry Kasparov, marking a milestone in AI development. In 2011, IBM Watson outperformed human contestants in the television game Jeopardy!, and in 2016, Google's DeepMind AlphaGo defeated the world’s best Go player.\n",
    "\n",
    "Today, AI is widely used in medicine, finance, the automotive industry, and many other fields. Deep learning and neural network technologies have led to significant advancements in natural language processing, computer vision, and autonomous systems. However, alongside these achievements, AI raises ethical and social concerns regarding privacy, job automation, and accountability for machine-made decisions.\n",
    "\n",
    "The future of AI promises even deeper integration into daily life, the development of generative models, improvements in autonomous systems, and increased accuracy in medical diagnostics. Nevertheless, it is essential to maintain a balance between technological progress and societal safety.\n",
    "\n",
    "\"\"\""
   ],
   "id": "1764caa2689485c4",
   "outputs": [],
   "execution_count": 81
  },
  {
   "metadata": {},
   "cell_type": "markdown",
   "source": "<h1>1. SpaCy (модель для английского языка)</h1>\n",
   "id": "b485e69c9ca887b6"
  },
  {
   "metadata": {
    "ExecuteTime": {
     "end_time": "2025-03-27T07:23:33.031296Z",
     "start_time": "2025-03-27T07:23:32.561396Z"
    }
   },
   "cell_type": "code",
   "source": [
    "nlp_en = spacy.load(\"en_core_web_sm\")\n",
    "doc_en = nlp_en(text_en)\n",
    "print(\"\\nSpaCy (EN):\")\n",
    "for ent in doc_en.ents:\n",
    "    print(f\"{ent.text} - {ent.label_}\")"
   ],
   "id": "ef554fc090b7d0ed",
   "outputs": [
    {
     "name": "stdout",
     "output_type": "stream",
     "text": [
      "\n",
      "SpaCy (EN):\n",
      "AI - GPE\n",
      "the mid-20th century - DATE\n",
      "first - ORDINAL\n",
      "1950 - DATE\n",
      "British - NORP\n",
      "Alan Turing - PERSON\n",
      "the Turing Test - LAW\n",
      "1956 - DATE\n",
      "the Dartmouth Conference - ORG\n",
      "first - ORDINAL\n",
      "the following decades - DATE\n",
      "1997 - DATE\n",
      "IBM - ORG\n",
      "Deep Blue - ORG\n",
      "Garry Kasparov - PERSON\n",
      "AI - GPE\n",
      "2011 - DATE\n",
      "IBM Watson - ORG\n",
      "Jeopardy - GPE\n",
      "2016 - DATE\n",
      "Google - ORG\n",
      "DeepMind AlphaGo - PRODUCT\n",
      "Today - DATE\n",
      "AI - GPE\n",
      "AI - ORG\n",
      "AI - ORG\n"
     ]
    }
   ],
   "execution_count": 82
  },
  {
   "metadata": {},
   "cell_type": "markdown",
   "source": "<h1>2. SpaCy (модель для русского языка)</h1>",
   "id": "2187565e5919934a"
  },
  {
   "metadata": {
    "ExecuteTime": {
     "end_time": "2025-03-27T07:23:34.047773Z",
     "start_time": "2025-03-27T07:23:33.070297Z"
    }
   },
   "cell_type": "code",
   "source": [
    "nlp_ru = spacy.load(\"ru_core_news_sm\")\n",
    "doc_ru = nlp_ru(text_ru)\n",
    "print(\"\\nSpaCy (RU):\")\n",
    "for ent in doc_ru.ents:\n",
    "    print(f\"{ent.text} - {ent.label_}\")"
   ],
   "id": "55f81d4bc9b934d2",
   "outputs": [
    {
     "name": "stdout",
     "output_type": "stream",
     "text": [
      "\n",
      "SpaCy (RU):\n",
      "Алан Тьюринг - PER\n",
      "Тьюринга - PER\n",
      "Дартмуте - LOC\n",
      "IBM Deep Blue - ORG\n",
      "Гарри Каспарова - PER\n",
      "ИИ - ORG\n",
      "IBM Watson - ORG\n",
      "AlphaGo - ORG\n",
      "Google DeepMind - ORG\n"
     ]
    }
   ],
   "execution_count": 83
  },
  {
   "metadata": {},
   "cell_type": "markdown",
   "source": "<h1>3. SpaCy (мультиязычная модель)</h1>",
   "id": "2c0665b810c85048"
  },
  {
   "metadata": {
    "ExecuteTime": {
     "end_time": "2025-03-27T07:23:35.548954Z",
     "start_time": "2025-03-27T07:23:34.053437Z"
    }
   },
   "cell_type": "code",
   "source": [
    "nlp_multi = spacy.load(\"xx_ent_wiki_sm\")\n",
    "doc_multi = nlp_multi(text_ru)\n",
    "print(\"\\nSpaCy (Multilingual):\")\n",
    "for ent in doc_multi.ents:\n",
    "    print(f\"{ent.text} - {ent.label_}\")"
   ],
   "id": "bf30d0bb5484d249",
   "outputs": [
    {
     "name": "stdout",
     "output_type": "stream",
     "text": [
      "\n",
      "SpaCy (Multilingual):\n",
      "ИИ - ORG\n",
      "Алан Тьюринг - PER\n",
      "Тьюринга - PER\n",
      "Дартмуте - LOC\n",
      "IBM Deep Blue - MISC\n",
      "Гарри Каспарова - PER\n",
      "ИИ - MISC\n",
      "IBM Watson - MISC\n",
      "Jeopardy! - MISC\n",
      "AlphaGo - ORG\n",
      "Google DeepMind - MISC\n",
      "Глубокое обучение - LOC\n",
      "ИИ - MISC\n",
      "Будущее ИИ - PER\n"
     ]
    }
   ],
   "execution_count": 84
  },
  {
   "metadata": {
    "ExecuteTime": {
     "end_time": "2025-03-27T07:23:37.061642Z",
     "start_time": "2025-03-27T07:23:35.572096Z"
    }
   },
   "cell_type": "code",
   "source": [
    "nlp_multi = spacy.load(\"xx_ent_wiki_sm\")\n",
    "doc_multi = nlp_multi(text_en)\n",
    "print(\"\\nSpaCy (Multilingual):\")\n",
    "for ent in doc_multi.ents:\n",
    "    print(f\"{ent.text} - {ent.label_}\")"
   ],
   "id": "45837053614ad14a",
   "outputs": [
    {
     "name": "stdout",
     "output_type": "stream",
     "text": [
      "\n",
      "SpaCy (Multilingual):\n",
      "AI - ORG\n",
      "British - MISC\n",
      "Alan Turing - PER\n",
      "Turing Test - MISC\n",
      "Dartmouth Conference - ORG\n",
      "IBM - ORG\n",
      "Deep Blue - MISC\n",
      "Garry Kasparov - PER\n",
      "IBM - ORG\n",
      "Watson - PER\n",
      "Jeopardy! - MISC\n",
      "Google - ORG\n",
      "DeepMind - MISC\n",
      "AlphaGo - ORG\n",
      "Go player - MISC\n"
     ]
    }
   ],
   "execution_count": 85
  },
  {
   "metadata": {},
   "cell_type": "markdown",
   "source": "<h1>4. Hugging Face Transformers (модель RoBERTa для NER)</h1>",
   "id": "2bb266f585e4dd34"
  },
  {
   "metadata": {
    "ExecuteTime": {
     "end_time": "2025-03-27T07:23:38.342257Z",
     "start_time": "2025-03-27T07:23:37.081633Z"
    }
   },
   "cell_type": "code",
   "source": [
    "ner_pipeline = pipeline(\"ner\", model=\"dslim/bert-base-NER\")\n",
    "print(\"\\nHugging Face (RoBERTa):\")\n",
    "for entity in ner_pipeline(text_ru):\n",
    "    print(f\"{entity['word']} - {entity['entity']}\")"
   ],
   "id": "db1176b8eb049613",
   "outputs": [
    {
     "name": "stderr",
     "output_type": "stream",
     "text": [
      "Some weights of the model checkpoint at dslim/bert-base-NER were not used when initializing BertForTokenClassification: ['bert.pooler.dense.bias', 'bert.pooler.dense.weight']\n",
      "- This IS expected if you are initializing BertForTokenClassification from the checkpoint of a model trained on another task or with another architecture (e.g. initializing a BertForSequenceClassification model from a BertForPreTraining model).\n",
      "- This IS NOT expected if you are initializing BertForTokenClassification from the checkpoint of a model that you expect to be exactly identical (initializing a BertForSequenceClassification model from a BertForSequenceClassification model).\n",
      "Device set to use cuda:0\n"
     ]
    },
    {
     "name": "stdout",
     "output_type": "stream",
     "text": [
      "\n",
      "Hugging Face (RoBERTa):\n",
      "И - B-ORG\n",
      "##с - I-ORG\n",
      "##к - I-ORG\n",
      "##у - I-ORG\n",
      "##с - I-ORG\n"
     ]
    }
   ],
   "execution_count": 86
  },
  {
   "metadata": {
    "ExecuteTime": {
     "end_time": "2025-03-27T07:23:39.049893Z",
     "start_time": "2025-03-27T07:23:38.363713Z"
    }
   },
   "cell_type": "code",
   "source": [
    "ner_pipeline = pipeline(\"ner\", model=\"dslim/bert-base-NER\")\n",
    "print(\"\\nHugging Face (RoBERTa):\")\n",
    "for entity in ner_pipeline(text_en):\n",
    "    print(f\"{entity['word']} - {entity['entity']}\")"
   ],
   "id": "deb7129919b495c4",
   "outputs": [
    {
     "name": "stderr",
     "output_type": "stream",
     "text": [
      "Some weights of the model checkpoint at dslim/bert-base-NER were not used when initializing BertForTokenClassification: ['bert.pooler.dense.bias', 'bert.pooler.dense.weight']\n",
      "- This IS expected if you are initializing BertForTokenClassification from the checkpoint of a model trained on another task or with another architecture (e.g. initializing a BertForSequenceClassification model from a BertForPreTraining model).\n",
      "- This IS NOT expected if you are initializing BertForTokenClassification from the checkpoint of a model that you expect to be exactly identical (initializing a BertForSequenceClassification model from a BertForSequenceClassification model).\n",
      "Device set to use cuda:0\n"
     ]
    },
    {
     "name": "stdout",
     "output_type": "stream",
     "text": [
      "\n",
      "Hugging Face (RoBERTa):\n",
      "AI - B-MISC\n",
      "AI - B-MISC\n",
      "British - B-MISC\n",
      "Alan - B-PER\n",
      "Turin - I-PER\n",
      "Turin - B-MISC\n",
      "##g - I-MISC\n",
      "Test - I-MISC\n",
      "Dartmouth - B-MISC\n",
      "Conference - I-MISC\n",
      "IBM - B-ORG\n",
      "Deep - B-ORG\n",
      "Blue - I-ORG\n",
      "Garry - B-PER\n",
      "Ka - I-PER\n",
      "##sp - I-PER\n",
      "##aro - I-PER\n",
      "AI - B-MISC\n",
      "IBM - B-ORG\n",
      "Watson - I-ORG\n",
      "Je - B-MISC\n",
      "##ard - I-MISC\n",
      "##y - I-MISC\n",
      "! - I-MISC\n",
      "Google - B-ORG\n",
      "Deep - B-MISC\n",
      "##M - I-MISC\n",
      "##ind - I-MISC\n",
      "Alpha - I-MISC\n",
      "##G - I-MISC\n",
      "##o - I-ORG\n",
      "AI - B-MISC\n",
      "AI - B-MISC\n",
      "AI - B-MISC\n"
     ]
    }
   ],
   "execution_count": 87
  },
  {
   "metadata": {},
   "cell_type": "markdown",
   "source": "<h1>5. Natasha (модель для русского языка)</h1>",
   "id": "2f550a5e65944f54"
  },
  {
   "metadata": {
    "ExecuteTime": {
     "end_time": "2025-03-27T07:23:39.380777Z",
     "start_time": "2025-03-27T07:23:39.074908Z"
    }
   },
   "cell_type": "code",
   "source": [
    "segmenter = Segmenter()\n",
    "emb = NewsEmbedding()\n",
    "ner_tagger = NewsNERTagger(emb)\n",
    "doc = Doc(text_ru)\n",
    "doc.segment(segmenter)\n",
    "doc.tag_ner(ner_tagger)\n",
    "print(\"\\nNatasha:\")\n",
    "for span in doc.spans:\n",
    "    print(f\"{span.text} - {span.type}\")"
   ],
   "id": "66033578030a04a3",
   "outputs": [
    {
     "name": "stdout",
     "output_type": "stream",
     "text": [
      "\n",
      "Natasha:\n",
      "Алан Тьюринг - PER\n",
      "Тьюринга - PER\n",
      "Дартмуте - LOC\n",
      "IBM Deep Blue - ORG\n",
      "Гарри Каспарова - PER\n",
      "IBM Watson - ORG\n",
      "Google DeepMind - ORG\n",
      "ИИ - ORG\n"
     ]
    }
   ],
   "execution_count": 88
  },
  {
   "metadata": {},
   "cell_type": "markdown",
   "source": "<h1>6. NLTK</h1>",
   "id": "78d07ce44b91af86"
  },
  {
   "metadata": {
    "ExecuteTime": {
     "end_time": "2025-03-27T07:23:58.875348Z",
     "start_time": "2025-03-27T07:23:39.403451Z"
    }
   },
   "cell_type": "code",
   "source": [
    "nltk.download(\"punkt\")\n",
    "nltk.download(\"averaged_perceptron_tagger_eng\")\n",
    "nltk.download(\"maxent_ne_chunker_tab\")\n",
    "nltk.download(\"words\")\n",
    "\n",
    "# Токенизация и POS-теггинг\n",
    "tokens = word_tokenize(text_en)\n",
    "pos_tags = pos_tag(tokens)\n",
    "\n",
    "# Разбор именованных сущностей\n",
    "named_entities_tree = ne_chunk(pos_tags)\n",
    "\n",
    "# Извлечение только именованных сущностей\n",
    "named_entities = []\n",
    "for subtree in named_entities_tree:\n",
    "    if hasattr(subtree, 'label'):\n",
    "        entity_name = \" \".join([token for token, pos in subtree.leaves()])\n",
    "        entity_type = subtree.label()\n",
    "        named_entities.append((entity_name, entity_type))\n",
    "\n",
    "# Вывод результатов\n",
    "print(\"\\nNLTK (именованные сущности):\")\n",
    "for entity in named_entities:\n",
    "    print(f\"{entity[0]} - {entity[1]}\")"
   ],
   "id": "caffd4073885f186",
   "outputs": [
    {
     "name": "stderr",
     "output_type": "stream",
     "text": [
      "[nltk_data] Downloading package punkt to /home/makarov/nltk_data...\n",
      "[nltk_data]   Package punkt is already up-to-date!\n",
      "[nltk_data] Downloading package averaged_perceptron_tagger_eng to\n",
      "[nltk_data]     /home/makarov/nltk_data...\n",
      "[nltk_data]   Package averaged_perceptron_tagger_eng is already up-to-\n",
      "[nltk_data]       date!\n",
      "[nltk_data] Downloading package maxent_ne_chunker_tab to\n",
      "[nltk_data]     /home/makarov/nltk_data...\n",
      "[nltk_data]   Unzipping chunkers/maxent_ne_chunker_tab.zip.\n",
      "[nltk_data] Downloading package words to /home/makarov/nltk_data...\n",
      "[nltk_data]   Package words is already up-to-date!\n"
     ]
    },
    {
     "name": "stdout",
     "output_type": "stream",
     "text": [
      "\n",
      "NLTK (именованные сущности):\n",
      "Artificial - GPE\n",
      "AI - ORGANIZATION\n",
      "British - GPE\n",
      "Alan Turing - PERSON\n",
      "Turing Test - ORGANIZATION\n",
      "Dartmouth Conference - ORGANIZATION\n",
      "IBM - ORGANIZATION\n",
      "Deep Blue - PERSON\n",
      "Garry Kasparov - PERSON\n",
      "AI - GPE\n",
      "IBM Watson - ORGANIZATION\n",
      "Jeopardy - PERSON\n",
      "Google - PERSON\n",
      "DeepMind - ORGANIZATION\n",
      "AI - ORGANIZATION\n",
      "Deep - PERSON\n",
      "AI - ORGANIZATION\n",
      "AI - ORGANIZATION\n"
     ]
    }
   ],
   "execution_count": 89
  }
 ],
 "metadata": {
  "kernelspec": {
   "display_name": "Python 3",
   "language": "python",
   "name": "python3"
  },
  "language_info": {
   "codemirror_mode": {
    "name": "ipython",
    "version": 2
   },
   "file_extension": ".py",
   "mimetype": "text/x-python",
   "name": "python",
   "nbconvert_exporter": "python",
   "pygments_lexer": "ipython2",
   "version": "2.7.6"
  }
 },
 "nbformat": 4,
 "nbformat_minor": 5
}
